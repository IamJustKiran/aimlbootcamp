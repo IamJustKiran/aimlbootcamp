{
  "nbformat": 4,
  "nbformat_minor": 0,
  "metadata": {
    "colab": {
      "provenance": [],
      "authorship_tag": "ABX9TyO+ES/0PGuTgDDR0klh6O+I",
      "include_colab_link": true
    },
    "kernelspec": {
      "name": "python3",
      "display_name": "Python 3"
    },
    "language_info": {
      "name": "python"
    }
  },
  "cells": [
    {
      "cell_type": "markdown",
      "metadata": {
        "id": "view-in-github",
        "colab_type": "text"
      },
      "source": [
        "<a href=\"https://colab.research.google.com/github/IamJustKiran/aimlbootcamp/blob/main/Stemming.ipynb\" target=\"_parent\"><img src=\"https://colab.research.google.com/assets/colab-badge.svg\" alt=\"Open In Colab\"/></a>"
      ]
    },
    {
      "cell_type": "code",
      "execution_count": 2,
      "metadata": {
        "colab": {
          "base_uri": "https://localhost:8080/"
        },
        "id": "4uPpx2p9ofIi",
        "outputId": "9b5e85fe-ae0a-491d-8419-91e79edd810e"
      },
      "outputs": [
        {
          "output_type": "stream",
          "name": "stdout",
          "text": [
            "Eating--->eat\n",
            "Eat--->eat\n",
            "Eaten--->eaten\n",
            "programming--->program\n",
            "program--->program\n",
            "writing--->write\n",
            "written--->written\n",
            "wrote--->wrote\n"
          ]
        }
      ],
      "source": [
        "from nltk.stem import PorterStemmer\n",
        "words = [\"Eating\", \"Eat\", \"Eaten\", \"programming\",\"program\", \"writing\", \"written\", \"wrote\"]\n",
        "## Porter Stemming technique\n",
        "stemming = PorterStemmer()\n",
        "for word in words:\n",
        "  print(word + \"--->\" + stemming.stem(word))\n"
      ]
    },
    {
      "cell_type": "code",
      "source": [
        "from nltk.stem import RegexpStemmer\n",
        "words = [\"Eating\", \"Eat\", \"Eaten\", \"programming\",\"program\", \"writing\", \"written\", \"wrote\"]\n",
        "## Regex Stemming technique\n",
        "## this will give stem word based on the regex provided\n",
        "regex_stemmer = RegexpStemmer('ing$|s$|e$|able$')\n",
        "for word in words:\n",
        "  print(word + \"--->\" + regex_stemmer.stem(word))"
      ],
      "metadata": {
        "colab": {
          "base_uri": "https://localhost:8080/"
        },
        "id": "2qQQCzym29__",
        "outputId": "aa5fb6ca-19ca-459a-d1f8-3e3560ebacac"
      },
      "execution_count": 3,
      "outputs": [
        {
          "output_type": "stream",
          "name": "stdout",
          "text": [
            "Eating--->Eat\n",
            "Eat--->Eat\n",
            "Eaten--->Eaten\n",
            "programming--->programm\n",
            "program--->program\n",
            "writing--->writ\n",
            "written--->written\n",
            "wrote--->wrot\n"
          ]
        }
      ]
    },
    {
      "cell_type": "code",
      "source": [
        "from nltk.stem import SnowballStemmer\n",
        "words = [\"Eating\", \"Eat\", \"Eaten\", \"programming\",\"program\", \"writing\", \"written\", \"wrote\"]\n",
        "## Snowball Stemming technique\n",
        "## almost similar to porter stemmer but works better with some words\n",
        "snowballstemmer = SnowballStemmer('english')\n",
        "for word in words:\n",
        "  print(word + \"--->\" + snowballstemmer.stem(word))"
      ],
      "metadata": {
        "colab": {
          "base_uri": "https://localhost:8080/"
        },
        "id": "ZAvbX_EV58d6",
        "outputId": "cacfe73b-e5f8-4668-bcfe-de97f3b510a7"
      },
      "execution_count": 5,
      "outputs": [
        {
          "output_type": "stream",
          "name": "stdout",
          "text": [
            "Eating--->eat\n",
            "Eat--->eat\n",
            "Eaten--->eaten\n",
            "programming--->program\n",
            "program--->program\n",
            "writing--->write\n",
            "written--->written\n",
            "wrote--->wrote\n"
          ]
        }
      ]
    }
  ]
}